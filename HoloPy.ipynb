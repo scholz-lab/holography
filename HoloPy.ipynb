{
 "cells": [
  {
   "cell_type": "code",
   "execution_count": 1,
   "metadata": {},
   "outputs": [],
   "source": [
    "%matplotlib qt"
   ]
  },
  {
   "cell_type": "code",
   "execution_count": 2,
   "metadata": {},
   "outputs": [
    {
     "name": "stderr",
     "output_type": "stream",
     "text": [
      "/home/scholz_la/.conda/envs/holography/lib/python3.9/site-packages/pims/image_reader.py:26: RuntimeWarning: PIMS image_reader.py could not find scikit-image. Falling back to matplotlib's imread(), which uses floats instead of integers. This may break your scripts. \n",
      "(To ignore this warning, include the line \"warnings.simplefilter(\"ignore\", RuntimeWarning)\" in your script.)\n",
      "  warnings.warn(RuntimeWarning(ski_preferred))\n"
     ]
    }
   ],
   "source": [
    "import os\n",
    "import pims\n",
    "import xarray as xr\n",
    "import matplotlib\n",
    "import matplotlib.pylab as plt\n",
    "\n",
    "import numpy as np\n",
    "import holopy as hp\n",
    "from holopy.core.process import bg_correct\n",
    "from holopy.propagation import ps_propagate\n",
    "from scipy.ndimage import center_of_mass\n"
   ]
  },
  {
   "cell_type": "code",
   "execution_count": 30,
   "metadata": {},
   "outputs": [],
   "source": [
    "from holopy.core.io import save_images"
   ]
  },
  {
   "cell_type": "code",
   "execution_count": 3,
   "metadata": {},
   "outputs": [
    {
     "name": "stderr",
     "output_type": "stream",
     "text": [
      "virtual void QEventDispatcherUNIX::registerSocketNotifier(QSocketNotifier*): Multiple socket notifiers for same socket 11 and type Read\n"
     ]
    }
   ],
   "source": [
    "from holopy import check_display\n",
    "check_display()\n",
    "plt.show()"
   ]
  },
  {
   "cell_type": "markdown",
   "metadata": {},
   "source": [
    "# Holography\n",
    "## Setup - load data"
   ]
  },
  {
   "cell_type": "code",
   "execution_count": 34,
   "metadata": {},
   "outputs": [
    {
     "name": "stderr",
     "output_type": "stream",
     "text": [
      "/home/scholz_la/.conda/envs/holography/lib/python3.9/site-packages/holopy/core/metadata.py:344: UserWarning: No pixel spacing provided. Setting spacing to 1, but anysubsequent calculations will be wrong.\n",
      "  warn(\"No pixel spacing provided. Setting spacing to 1, but any\"\n"
     ]
    }
   ],
   "source": [
    "imagepath = \"/media/nif9202/Luis/Holography/Recording Single frame/worm2.bmp\"\n",
    "bgpath = \"/media/nif9202/Luis/Holography/Recording Single frame/BackgroundWorm2.bmp\"\n",
    "\n",
    "#image = pims.open(imagepath)\n",
    "raw_holo = hp.load_image(imagepath)\n",
    "hp.show(raw_holo)"
   ]
  },
  {
   "cell_type": "markdown",
   "metadata": {},
   "source": [
    "## Background removal"
   ]
  },
  {
   "cell_type": "code",
   "execution_count": 35,
   "metadata": {},
   "outputs": [
    {
     "name": "stderr",
     "output_type": "stream",
     "text": [
      "/home/scholz_la/.conda/envs/holography/lib/python3.9/site-packages/holopy/core/metadata.py:344: UserWarning: No pixel spacing provided. Setting spacing to 1, but anysubsequent calculations will be wrong.\n",
      "  warn(\"No pixel spacing provided. Setting spacing to 1, but any\"\n"
     ]
    }
   ],
   "source": [
    "bg = hp.load_image(bgpath)\n",
    "holo = bg_correct(raw_holo, bg)\n",
    "hp.show(holo)\n",
    "\n",
    "# for multiple background we can load a series\n",
    "#bgpath = get_example_data_path(['bg01.jpg', 'bg02.jpg', 'bg03.jpg'])\n",
    "#bg = hp.core.io.load_average(bgpath, refimg = raw_holo)"
   ]
  },
  {
   "cell_type": "markdown",
   "metadata": {},
   "source": [
    "## specify experimental details\n",
    "Spacing and wavelength must be given in the same units - micrometers in the example above. Holopy has no built-in length scale and requires only that you be consistent. For example, we could have specified both parameters in terms of nanometers or meters instead."
   ]
  },
  {
   "cell_type": "code",
   "execution_count": 36,
   "metadata": {},
   "outputs": [],
   "source": [
    "# spacing\n",
    "# we have 6x magnification -> 2.34um/6\n",
    "spacing = 2.34/6\n",
    "# wavelength incident light\n",
    "lambda_ill = 0.590\n",
    "# direction of polarization \n",
    "polarization = (1,0)\n",
    "# refractive index of medium\n",
    "medium_index = 1.33\n",
    "holo = hp.core.update_metadata(holo, medium_index=medium_index,\n",
    "                               illum_wavelen=lambda_ill, illum_polarization=polarization)"
   ]
  },
  {
   "cell_type": "markdown",
   "metadata": {},
   "source": [
    "## Reconstruct a single image"
   ]
  },
  {
   "cell_type": "code",
   "execution_count": 37,
   "metadata": {},
   "outputs": [
    {
     "name": "stderr",
     "output_type": "stream",
     "text": [
      "/home/scholz_la/.conda/envs/holography/lib/python3.9/site-packages/holopy/core/io/vis.py:264: UserWarning: Image contains complex values. Taking image magnitude.\n",
      "  warn(\"Image contains complex values. Taking image magnitude.\")\n"
     ]
    }
   ],
   "source": [
    "zstack = np.linspace(-5000, -10000, 21)\n",
    "rec_vol = hp.propagate(holo, zstack,cfsp = 3)\n",
    "hp.show(rec_vol)"
   ]
  },
  {
   "cell_type": "markdown",
   "metadata": {},
   "source": [
    "## repeat for a whole movie"
   ]
  },
  {
   "cell_type": "code",
   "execution_count": 60,
   "metadata": {},
   "outputs": [],
   "source": [
    "moviepath = \"/media/nif9202/Luis/Holography/Recording Movie Worm/\"\n",
    "bgpath = \"/media/nif9202/Luis/Holography/Recording Movie Worm/Background.bmp\"\n"
   ]
  },
  {
   "cell_type": "code",
   "execution_count": 17,
   "metadata": {},
   "outputs": [],
   "source": [
    "# spacing\n",
    "# we have 6x magnification -> 2.34um/6\n",
    "spacing = 2.34/6\n",
    "# wavelength incident light\n",
    "lambda_ill = 0.590\n",
    "# direction of polarization \n",
    "polarization = (1,0)\n",
    "# refractive index of medium\n",
    "medium_index = 1.33"
   ]
  },
  {
   "cell_type": "code",
   "execution_count": 56,
   "metadata": {},
   "outputs": [],
   "source": [
    "def run_holography(fn, bg,zstack, **pars):\n",
    "    \"\"\"run all steps of reconstruction.\"\"\"\n",
    "    raw_holo = hp.load_image(fn, spacing = spacing)\n",
    "    holo = bg_correct(raw_holo, bg)\n",
    "    holo = hp.core.update_metadata(holo, medium_index=medium_index,\n",
    "                           illum_wavelen=lambda_ill, illum_polarization=polarization)\n",
    "    return hp.propagate(holo, zstack)"
   ]
  },
  {
   "cell_type": "code",
   "execution_count": 65,
   "metadata": {
    "scrolled": true
   },
   "outputs": [
    {
     "name": "stderr",
     "output_type": "stream",
     "text": [
      "/home/scholz_la/.conda/envs/holography/lib/python3.9/site-packages/holopy/core/io/vis.py:264: UserWarning: Image contains complex values. Taking image magnitude.\n",
      "  warn(\"Image contains complex values. Taking image magnitude.\")\n",
      "/home/scholz_la/.conda/envs/holography/lib/python3.9/site-packages/holopy/core/io/vis.py:264: UserWarning: Image contains complex values. Taking image magnitude.\n",
      "  warn(\"Image contains complex values. Taking image magnitude.\")\n",
      "/home/scholz_la/.conda/envs/holography/lib/python3.9/site-packages/holopy/core/io/vis.py:264: UserWarning: Image contains complex values. Taking image magnitude.\n",
      "  warn(\"Image contains complex values. Taking image magnitude.\")\n",
      "/home/scholz_la/.conda/envs/holography/lib/python3.9/site-packages/holopy/core/io/vis.py:264: UserWarning: Image contains complex values. Taking image magnitude.\n",
      "  warn(\"Image contains complex values. Taking image magnitude.\")\n",
      "/home/scholz_la/.conda/envs/holography/lib/python3.9/site-packages/holopy/core/io/vis.py:264: UserWarning: Image contains complex values. Taking image magnitude.\n",
      "  warn(\"Image contains complex values. Taking image magnitude.\")\n",
      "/home/scholz_la/.conda/envs/holography/lib/python3.9/site-packages/holopy/core/io/vis.py:264: UserWarning: Image contains complex values. Taking image magnitude.\n",
      "  warn(\"Image contains complex values. Taking image magnitude.\")\n",
      "/home/scholz_la/.conda/envs/holography/lib/python3.9/site-packages/holopy/core/io/vis.py:264: UserWarning: Image contains complex values. Taking image magnitude.\n",
      "  warn(\"Image contains complex values. Taking image magnitude.\")\n",
      "/home/scholz_la/.conda/envs/holography/lib/python3.9/site-packages/holopy/core/io/vis.py:264: UserWarning: Image contains complex values. Taking image magnitude.\n",
      "  warn(\"Image contains complex values. Taking image magnitude.\")\n",
      "/home/scholz_la/.conda/envs/holography/lib/python3.9/site-packages/holopy/core/io/vis.py:264: UserWarning: Image contains complex values. Taking image magnitude.\n",
      "  warn(\"Image contains complex values. Taking image magnitude.\")\n",
      "/home/scholz_la/.conda/envs/holography/lib/python3.9/site-packages/holopy/core/io/vis.py:264: UserWarning: Image contains complex values. Taking image magnitude.\n",
      "  warn(\"Image contains complex values. Taking image magnitude.\")\n",
      "/home/scholz_la/.conda/envs/holography/lib/python3.9/site-packages/holopy/core/io/vis.py:264: UserWarning: Image contains complex values. Taking image magnitude.\n",
      "  warn(\"Image contains complex values. Taking image magnitude.\")\n",
      "/home/scholz_la/.conda/envs/holography/lib/python3.9/site-packages/holopy/core/io/vis.py:264: UserWarning: Image contains complex values. Taking image magnitude.\n",
      "  warn(\"Image contains complex values. Taking image magnitude.\")\n",
      "/home/scholz_la/.conda/envs/holography/lib/python3.9/site-packages/holopy/core/io/vis.py:264: UserWarning: Image contains complex values. Taking image magnitude.\n",
      "  warn(\"Image contains complex values. Taking image magnitude.\")\n",
      "/home/scholz_la/.conda/envs/holography/lib/python3.9/site-packages/holopy/core/io/vis.py:264: UserWarning: Image contains complex values. Taking image magnitude.\n",
      "  warn(\"Image contains complex values. Taking image magnitude.\")\n",
      "/home/scholz_la/.conda/envs/holography/lib/python3.9/site-packages/holopy/core/io/vis.py:264: UserWarning: Image contains complex values. Taking image magnitude.\n",
      "  warn(\"Image contains complex values. Taking image magnitude.\")\n",
      "/home/scholz_la/.conda/envs/holography/lib/python3.9/site-packages/holopy/core/io/vis.py:264: UserWarning: Image contains complex values. Taking image magnitude.\n",
      "  warn(\"Image contains complex values. Taking image magnitude.\")\n",
      "/home/scholz_la/.conda/envs/holography/lib/python3.9/site-packages/holopy/core/io/vis.py:264: UserWarning: Image contains complex values. Taking image magnitude.\n",
      "  warn(\"Image contains complex values. Taking image magnitude.\")\n",
      "/home/scholz_la/.conda/envs/holography/lib/python3.9/site-packages/holopy/core/io/vis.py:264: UserWarning: Image contains complex values. Taking image magnitude.\n",
      "  warn(\"Image contains complex values. Taking image magnitude.\")\n",
      "/home/scholz_la/.conda/envs/holography/lib/python3.9/site-packages/holopy/core/io/vis.py:264: UserWarning: Image contains complex values. Taking image magnitude.\n",
      "  warn(\"Image contains complex values. Taking image magnitude.\")\n",
      "/home/scholz_la/.conda/envs/holography/lib/python3.9/site-packages/holopy/core/io/vis.py:264: UserWarning: Image contains complex values. Taking image magnitude.\n",
      "  warn(\"Image contains complex values. Taking image magnitude.\")\n",
      "/home/scholz_la/.conda/envs/holography/lib/python3.9/site-packages/holopy/core/io/vis.py:264: UserWarning: Image contains complex values. Taking image magnitude.\n",
      "  warn(\"Image contains complex values. Taking image magnitude.\")\n",
      "/home/scholz_la/.conda/envs/holography/lib/python3.9/site-packages/holopy/core/io/vis.py:264: UserWarning: Image contains complex values. Taking image magnitude.\n",
      "  warn(\"Image contains complex values. Taking image magnitude.\")\n",
      "/home/scholz_la/.conda/envs/holography/lib/python3.9/site-packages/holopy/core/io/vis.py:264: UserWarning: Image contains complex values. Taking image magnitude.\n",
      "  warn(\"Image contains complex values. Taking image magnitude.\")\n",
      "/home/scholz_la/.conda/envs/holography/lib/python3.9/site-packages/holopy/core/io/vis.py:264: UserWarning: Image contains complex values. Taking image magnitude.\n",
      "  warn(\"Image contains complex values. Taking image magnitude.\")\n",
      "/home/scholz_la/.conda/envs/holography/lib/python3.9/site-packages/holopy/core/io/vis.py:264: UserWarning: Image contains complex values. Taking image magnitude.\n",
      "  warn(\"Image contains complex values. Taking image magnitude.\")\n",
      "/home/scholz_la/.conda/envs/holography/lib/python3.9/site-packages/holopy/core/io/vis.py:264: UserWarning: Image contains complex values. Taking image magnitude.\n",
      "  warn(\"Image contains complex values. Taking image magnitude.\")\n",
      "/home/scholz_la/.conda/envs/holography/lib/python3.9/site-packages/holopy/core/io/vis.py:264: UserWarning: Image contains complex values. Taking image magnitude.\n",
      "  warn(\"Image contains complex values. Taking image magnitude.\")\n",
      "/home/scholz_la/.conda/envs/holography/lib/python3.9/site-packages/holopy/core/io/vis.py:264: UserWarning: Image contains complex values. Taking image magnitude.\n",
      "  warn(\"Image contains complex values. Taking image magnitude.\")\n",
      "/home/scholz_la/.conda/envs/holography/lib/python3.9/site-packages/holopy/core/io/vis.py:264: UserWarning: Image contains complex values. Taking image magnitude.\n",
      "  warn(\"Image contains complex values. Taking image magnitude.\")\n",
      "/home/scholz_la/.conda/envs/holography/lib/python3.9/site-packages/holopy/core/io/vis.py:264: UserWarning: Image contains complex values. Taking image magnitude.\n",
      "  warn(\"Image contains complex values. Taking image magnitude.\")\n",
      "/home/scholz_la/.conda/envs/holography/lib/python3.9/site-packages/holopy/core/io/vis.py:264: UserWarning: Image contains complex values. Taking image magnitude.\n",
      "  warn(\"Image contains complex values. Taking image magnitude.\")\n",
      "/home/scholz_la/.conda/envs/holography/lib/python3.9/site-packages/holopy/core/io/vis.py:264: UserWarning: Image contains complex values. Taking image magnitude.\n",
      "  warn(\"Image contains complex values. Taking image magnitude.\")\n",
      "/home/scholz_la/.conda/envs/holography/lib/python3.9/site-packages/holopy/core/io/vis.py:264: UserWarning: Image contains complex values. Taking image magnitude.\n",
      "  warn(\"Image contains complex values. Taking image magnitude.\")\n",
      "/home/scholz_la/.conda/envs/holography/lib/python3.9/site-packages/holopy/core/io/vis.py:264: UserWarning: Image contains complex values. Taking image magnitude.\n",
      "  warn(\"Image contains complex values. Taking image magnitude.\")\n",
      "/home/scholz_la/.conda/envs/holography/lib/python3.9/site-packages/holopy/core/io/vis.py:264: UserWarning: Image contains complex values. Taking image magnitude.\n",
      "  warn(\"Image contains complex values. Taking image magnitude.\")\n",
      "/home/scholz_la/.conda/envs/holography/lib/python3.9/site-packages/holopy/core/io/vis.py:264: UserWarning: Image contains complex values. Taking image magnitude.\n",
      "  warn(\"Image contains complex values. Taking image magnitude.\")\n",
      "/home/scholz_la/.conda/envs/holography/lib/python3.9/site-packages/holopy/core/io/vis.py:264: UserWarning: Image contains complex values. Taking image magnitude.\n",
      "  warn(\"Image contains complex values. Taking image magnitude.\")\n"
     ]
    },
    {
     "name": "stderr",
     "output_type": "stream",
     "text": [
      "/home/scholz_la/.conda/envs/holography/lib/python3.9/site-packages/holopy/core/io/vis.py:264: UserWarning: Image contains complex values. Taking image magnitude.\n",
      "  warn(\"Image contains complex values. Taking image magnitude.\")\n",
      "/home/scholz_la/.conda/envs/holography/lib/python3.9/site-packages/holopy/core/io/vis.py:264: UserWarning: Image contains complex values. Taking image magnitude.\n",
      "  warn(\"Image contains complex values. Taking image magnitude.\")\n",
      "/home/scholz_la/.conda/envs/holography/lib/python3.9/site-packages/holopy/core/io/vis.py:264: UserWarning: Image contains complex values. Taking image magnitude.\n",
      "  warn(\"Image contains complex values. Taking image magnitude.\")\n"
     ]
    },
    {
     "name": "stdout",
     "output_type": "stream",
     "text": [
      "CPU times: user 41.7 s, sys: 7.62 s, total: 49.3 s\n",
      "Wall time: 53.3 s\n"
     ]
    }
   ],
   "source": [
    "%%time\n",
    "outfile = 'Holo_{}_{}.tiff'\n",
    "zstack = np.linspace(-2000, 2000, 10)\n",
    "pars = {'medium_index':medium_index,\n",
    "        'illum_wavelen':lambda_ill, \n",
    "        'illum_polarization':polarization,\n",
    "       'spacing':spacing}\n",
    "bg = hp.load_image(bgpath, spacing = pars['spacing'])\n",
    "\n",
    "for fn in os.listdir(moviepath)[:6]:\n",
    "    if fn.endswith('tiff') and 'Basler' in fn:\n",
    "        # create volume reconstruction\n",
    "        idx = fn.split('_')[-1].split('.')[0]\n",
    "        impath = os.path.join(moviepath, fn)\n",
    "        rec = run_holography(impath, bg,zstack, **pars)\n",
    "        # save images\n",
    "        filenames = [outfile.format(k,idx) for k in range(len(zstack))]\n",
    "        save_images(filenames,np.moveaxis(rec.values, -1,0))\n",
    "        \n",
    "#         movie.append(rec)\n",
    "# rec_movie = xr.concat(movie, 't')"
   ]
  },
  {
   "cell_type": "code",
   "execution_count": 64,
   "metadata": {},
   "outputs": [
    {
     "name": "stderr",
     "output_type": "stream",
     "text": [
      "/home/scholz_la/.conda/envs/holography/lib/python3.9/site-packages/holopy/core/io/vis.py:264: UserWarning: Image contains complex values. Taking image magnitude.\n",
      "  warn(\"Image contains complex values. Taking image magnitude.\")\n"
     ]
    },
    {
     "name": "stdout",
     "output_type": "stream",
     "text": [
      "pixels: x = 1161, y = 1613, z = 0, units: x = 4.5e+02, y = 6.3e+02, z = 0.0e+00,\n"
     ]
    },
    {
     "name": "stderr",
     "output_type": "stream",
     "text": [
      "virtual void QEventDispatcherUNIX::registerSocketNotifier(QSocketNotifier*): Multiple socket notifiers for same socket 11 and type Read\n"
     ]
    }
   ],
   "source": [
    "zstack = np.linspace(0, 5000, 11)\n",
    "rec_vol =run_holography(impath, bg,zstack, **pars)\n",
    "hp.show(rec_vol)"
   ]
  },
  {
   "cell_type": "markdown",
   "metadata": {},
   "source": [
    "## Postprocessing"
   ]
  },
  {
   "cell_type": "code",
   "execution_count": 37,
   "metadata": {},
   "outputs": [
    {
     "data": {
      "text/plain": [
       "<matplotlib.image.AxesImage at 0x7f3e554d4fd0>"
      ]
     },
     "execution_count": 37,
     "metadata": {},
     "output_type": "execute_result"
    },
    {
     "name": "stderr",
     "output_type": "stream",
     "text": [
      "virtual void QEventDispatcherUNIX::registerSocketNotifier(QSocketNotifier*): Multiple socket notifiers for same socket 11 and type Read\n"
     ]
    }
   ],
   "source": [
    "plt.imshow(np.max(np.abs(rec_vol.values), axis=-1))"
   ]
  },
  {
   "cell_type": "markdown",
   "metadata": {},
   "source": [
    "## Loading and saving data"
   ]
  },
  {
   "cell_type": "code",
   "execution_count": null,
   "metadata": {},
   "outputs": [],
   "source": [
    "outfile = 'test'\n",
    "hp.save(outfile, holo)\n",
    "holo = hp.load(outfile)\n",
    "hp.save_image(outfile, holo)"
   ]
  },
  {
   "cell_type": "code",
   "execution_count": null,
   "metadata": {},
   "outputs": [],
   "source": [
    "outfile = 'test'\n",
    "hp.save(outfile,movie)\n",
    "holo = hp.load(outfile)"
   ]
  },
  {
   "cell_type": "code",
   "execution_count": null,
   "metadata": {},
   "outputs": [],
   "source": [
    "pwd"
   ]
  },
  {
   "cell_type": "code",
   "execution_count": null,
   "metadata": {},
   "outputs": [],
   "source": []
  }
 ],
 "metadata": {
  "kernelspec": {
   "display_name": "holo",
   "language": "python",
   "name": "holo"
  },
  "language_info": {
   "codemirror_mode": {
    "name": "ipython",
    "version": 3
   },
   "file_extension": ".py",
   "mimetype": "text/x-python",
   "name": "python",
   "nbconvert_exporter": "python",
   "pygments_lexer": "ipython3",
   "version": "3.9.10"
  }
 },
 "nbformat": 4,
 "nbformat_minor": 4
}
